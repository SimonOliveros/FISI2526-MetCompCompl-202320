{
 "cells": [
  {
   "cell_type": "code",
   "execution_count": 118,
   "metadata": {},
   "outputs": [
    {
     "data": {
      "text/plain": [
       "array([[ 1,  0,  0,  0],\n",
       "       [ 1, -2,  1,  0],\n",
       "       [ 4, -1,  1,  3]])"
      ]
     },
     "execution_count": 118,
     "metadata": {},
     "output_type": "execute_result"
    }
   ],
   "source": [
    "import numpy as np\n",
    "G = np.array([[3, 1, -1, 2], [1, -2, 1, 0],[4,-1,1, 3]])\n",
    "\n",
    "\n",
    "\n",
    "\n",
    "G[0]=G[0]*(1/3)\n",
    "G\n"
   ]
  },
  {
   "cell_type": "code",
   "execution_count": 116,
   "metadata": {},
   "outputs": [
    {
     "data": {
      "text/plain": [
       "array([[ 0,  0,  0,  0],\n",
       "       [ 1, -2,  1,  0],\n",
       "       [ 4, -1,  1,  3]])"
      ]
     },
     "execution_count": 116,
     "metadata": {},
     "output_type": "execute_result"
    }
   ],
   "source": [
    "def Gauss(A):\n",
    "    resultados=[]\n",
    "    x_1=-((A[1][0])/(A[0][0]))\n",
    "    x_2=-((A[2][0])/A[0][0])\n",
    "    A[0]=A[0]*2\n",
    "    print\n",
    "    print(A)\n",
    "    A[2]=(A[0]*x_2+A[2])\n",
    "    x_3=-((A[2][1])/A[1][1])\n",
    "    A[2]=(A[1]*x_3+A[2])\n",
    "    z=A[2][3]/A[2][2]\n",
    "    resultados.append(z)\n",
    "\n",
    "    return A\n",
    "Gauss(G)"
   ]
  }
 ],
 "metadata": {
  "kernelspec": {
   "display_name": "Python 3",
   "language": "python",
   "name": "python3"
  },
  "language_info": {
   "name": "python",
   "version": "3.11.5"
  },
  "orig_nbformat": 4
 },
 "nbformat": 4,
 "nbformat_minor": 2
}
