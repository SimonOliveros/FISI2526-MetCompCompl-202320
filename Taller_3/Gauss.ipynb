{
 "cells": [
  {
   "cell_type": "code",
   "execution_count": 1,
   "metadata": {},
   "outputs": [
    {
     "data": {
      "text/plain": [
       "array([[ 1,  0,  0,  0],\n",
       "       [ 1, -2,  1,  0],\n",
       "       [ 4, -1,  1,  3]])"
      ]
     },
     "execution_count": 1,
     "metadata": {},
     "output_type": "execute_result"
    }
   ],
   "source": [
    "import numpy as np\n",
    "G = np.array([[3, 1, -1, 2], [1, -2, 1, 0],[4,-1,1, 3]])\n",
    "\n",
    "\n",
    "\n",
    "\n",
    "G[0]=G[0]*(1/3)\n",
    "G\n"
   ]
  },
  {
   "cell_type": "code",
   "execution_count": 2,
   "metadata": {},
   "outputs": [],
   "source": [
    "import numpy as np\n",
    "G =[[3, 1, -1, 2], [1, -2, 1, 0],[4,-1,1, 3]]\n",
    "A=[[1,1,1,0], [0,-8,10,0], [4, -8,0,6]]\n",
    "def Gauss(A):\n",
    "    resultado=[]\n",
    "    if A[0][2]!=0:\n",
    "        \n",
    "        x_1=-((A[1][0])/(A[0][0]))\n",
    "        x_2=-((A[2][0])/A[0][0])\n",
    "        F1_mult=[num *x_1 for num in A[0]]\n",
    "        A[1]=[a + b for a, b in zip(F1_mult, A[1])]\n",
    "        F1_mult1=[num *x_2 for num in A[0]]\n",
    "        A[2]=[a + b for a, b in zip(F1_mult1, A[2])]\n",
    "\n",
    "    if A[1][2]!=0:\n",
    "        x_3=-((A[2][1])/A[1][1])\n",
    "        F2_mult=[num *x_3 for num in A[1]]        \n",
    "        A[2]=[a + b for a, b in zip(F2_mult, A[2])]\n",
    "    A=np.array(A)\n",
    "    valores_idependientes=A[:, -1]\n",
    "    A = A[:, :-1]\n",
    "    resultado.append(A)\n",
    "    resultado.append(valores_idependientes)\n",
    "    \n",
    "\n",
    "    return resultado"
   ]
  },
  {
   "cell_type": "code",
   "execution_count": 3,
   "metadata": {},
   "outputs": [
    {
     "name": "stdout",
     "output_type": "stream",
     "text": [
      "[array([[ 3.        ,  1.        , -1.        ],\n",
      "       [ 0.        , -2.33333333,  1.33333333],\n",
      "       [ 0.        ,  0.        ,  1.        ]]), array([ 2.        , -0.66666667,  1.        ])]\n",
      "[array([[  1.,   1.,   1.],\n",
      "       [  0.,  -8.,  10.],\n",
      "       [  0.,   0., -19.]]), array([0., 0., 6.])]\n",
      "[0.71428571 0.85714286 1.        ]\n",
      "[ 0.71052632 -0.39473684 -0.31578947]\n"
     ]
    }
   ],
   "source": [
    "def back_substitution(A, b):\n",
    "    '''\n",
    "    Args:\n",
    "        A (np.array): Matriz de coeficientes triangular superior\n",
    "        b (np.arra): vector de constantes\n",
    "        \n",
    "    '''\n",
    "\n",
    "    n = np.shape(A)[0]\n",
    "    x = np.zeros(n)\n",
    "\n",
    "    for i in range(n-1,-1,-1):\n",
    "        sum = b[i]\n",
    "        for j in range(n-1,i,-1):\n",
    "            sum -= A[i,j]*x[j]\n",
    "        x[i] = sum/A[i,i]\n",
    "\n",
    "    return x\n",
    "\n",
    "Ejemplo_1=(Gauss(G))\n",
    "Ejemplo_2=Gauss(A)\n",
    "print(Ejemplo_1)\n",
    "print(Ejemplo_2)\n",
    "\n",
    "print(back_substitution(Ejemplo_1[0], Ejemplo_1[1]))\n",
    "print(back_substitution(Ejemplo_2[0], Ejemplo_2[1]))"
   ]
  }
 ],
 "metadata": {
  "kernelspec": {
   "display_name": "Python 3",
   "language": "python",
   "name": "python3"
  },
  "language_info": {
   "codemirror_mode": {
    "name": "ipython",
    "version": 3
   },
   "file_extension": ".py",
   "mimetype": "text/x-python",
   "name": "python",
   "nbconvert_exporter": "python",
   "pygments_lexer": "ipython3",
   "version": "3.11.5"
  },
  "orig_nbformat": 4
 },
 "nbformat": 4,
 "nbformat_minor": 2
}
