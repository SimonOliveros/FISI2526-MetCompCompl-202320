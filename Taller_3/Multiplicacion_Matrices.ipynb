{
 "cells": [
  {
   "cell_type": "code",
   "execution_count": 2,
   "metadata": {},
   "outputs": [],
   "source": [
    "import numpy as np\n",
    "import sympy as sym"
   ]
  },
  {
   "cell_type": "code",
   "execution_count": 3,
   "metadata": {},
   "outputs": [],
   "source": [
    "A = np.array([[5, -4, -2], [5, -5, 4],[2, 5, -4], [-5, 4, 3], [3, -4, -3]])\n",
    "B = np.array([[5], [-2], [-3]])\n"
   ]
  },
  {
   "cell_type": "code",
   "execution_count": 4,
   "metadata": {},
   "outputs": [],
   "source": [
    "\n",
    "\n",
    "def Mult_Matrices(A,B):\n",
    "\n",
    "   filas_A, columnas_A = A.shape\n",
    "   filas_B, columnas_B = B.shape\n",
    "   if columnas_A != filas_B:\n",
    "       print(\"Estas matrices no se pueden multiplicar\")\n",
    "   else:\n",
    "       resultado = np.zeros((filas_A, columnas_B))\n",
    "\n",
    "       for i in range(filas_A):\n",
    "           for k in range(columnas_B):\n",
    "               for x in range(columnas_A):\n",
    "                   resultado[i][k] += A[i][x] * B[x][k]\n",
    "\n",
    "       return resultado\n",
    "        "
   ]
  },
  {
   "cell_type": "code",
   "execution_count": 5,
   "metadata": {},
   "outputs": [
    {
     "data": {
      "text/plain": [
       "array([[ 39.],\n",
       "       [ 23.],\n",
       "       [ 12.],\n",
       "       [-42.],\n",
       "       [ 32.]])"
      ]
     },
     "execution_count": 5,
     "metadata": {},
     "output_type": "execute_result"
    }
   ],
   "source": [
    "R= Mult_Matrices(A,B)\n",
    "R"
   ]
  },
  {
   "cell_type": "code",
   "execution_count": 6,
   "metadata": {},
   "outputs": [
    {
     "name": "stdout",
     "output_type": "stream",
     "text": [
      "Estas matrices no se pueden multiplicar\n"
     ]
    }
   ],
   "source": [
    "C = np.array([[0, -1, -1, 3], [5, -5, -2, 2],[1, 0, 4, 5]])\n",
    "D = np.array([[0, -3], [-2, -1],[3, -3]])\n",
    "T=Mult_Matrices(C,D)\n",
    "T\n",
    "              "
   ]
  },
  {
   "cell_type": "code",
   "execution_count": 7,
   "metadata": {},
   "outputs": [
    {
     "data": {
      "text/plain": [
       "array([[ 12.,  27., -13.,  25., -37.],\n",
       "       [  2.,  51., -39., -46., -23.],\n",
       "       [ 27.,  -1., -19.,  16., -20.],\n",
       "       [ 13.,  25., -91.,  -1., -56.]])"
      ]
     },
     "execution_count": 7,
     "metadata": {},
     "output_type": "execute_result"
    }
   ],
   "source": [
    "E = np.array([[2, -5, 5, 1], [5, 2, -7, -6],[-6, -1, 7, -4], [5, 4, 1, -5]])\n",
    "F = np.array([[0, 4, -7, 1, -6], [-1, -6, -5, 1, 1], [2, -1, -6, 5, -5],[-3, -6, 6, 3, 5]])\n",
    "O=Mult_Matrices(E,F)\n",
    "O\n"
   ]
  },
  {
   "cell_type": "code",
   "execution_count": 9,
   "metadata": {},
   "outputs": [
    {
     "data": {
      "text/plain": [
       "array([[ 6., 16.],\n",
       "       [ 5., 14.]])"
      ]
     },
     "execution_count": 9,
     "metadata": {},
     "output_type": "execute_result"
    }
   ],
   "source": [
    "G = np.array([[2, 2], [3, 1]])\n",
    "H = np.array([[1, 3], [2, 5]])\n",
    "L= Mult_Matrices(G, H)\n",
    "L\n"
   ]
  },
  {
   "cell_type": "code",
   "execution_count": 10,
   "metadata": {},
   "outputs": [
    {
     "data": {
      "text/plain": [
       "array([[11.,  5.],\n",
       "       [19.,  9.]])"
      ]
     },
     "execution_count": 10,
     "metadata": {},
     "output_type": "execute_result"
    }
   ],
   "source": [
    "L2=Mult_Matrices(H,G)\n",
    "L2"
   ]
  },
  {
   "cell_type": "markdown",
   "metadata": {},
   "source": [
    "Como podemos ver, L es diferente de L2 lo que quiere decir que G*H es diferente a H*G, podemos concluir entonces que la multiplicación de matrices no es conmutativa. "
   ]
  }
 ],
 "metadata": {
  "kernelspec": {
   "display_name": "Python 3",
   "language": "python",
   "name": "python3"
  },
  "language_info": {
   "codemirror_mode": {
    "name": "ipython",
    "version": 3
   },
   "file_extension": ".py",
   "mimetype": "text/x-python",
   "name": "python",
   "nbconvert_exporter": "python",
   "pygments_lexer": "ipython3",
   "version": "3.11.5"
  },
  "orig_nbformat": 4
 },
 "nbformat": 4,
 "nbformat_minor": 2
}
