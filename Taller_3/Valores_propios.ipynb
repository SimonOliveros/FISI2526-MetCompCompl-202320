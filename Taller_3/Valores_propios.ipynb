{
 "cells": [
  {
   "cell_type": "code",
   "execution_count": 44,
   "metadata": {},
   "outputs": [
    {
     "data": {
      "text/plain": [
       "array([[-2,  1,  0],\n",
       "       [ 1, -2,  1],\n",
       "       [ 0,  1, -2]])"
      ]
     },
     "execution_count": 44,
     "metadata": {},
     "output_type": "execute_result"
    }
   ],
   "source": [
    "import numpy as np\n",
    "import sympy as sym\n",
    "x = sym.Symbol('x',real=True)\n",
    "A = np.array([[-2, 1, 0], [1, -2, 1],[0,1,-2]])\n",
    "v1=np.array([1,1,1])\n",
    "v2=np.array([2,2,2])\n",
    "A"
   ]
  },
  {
   "cell_type": "code",
   "execution_count": 45,
   "metadata": {},
   "outputs": [],
   "source": [
    "def Potencia(A, k, v1):\n",
    "    \n",
    "    \n",
    "    for i in range(k):\n",
    "        \n",
    "        Vector_prueba = np.dot(A, v1)\n",
    "        Valor_propio = np.dot(v1, Vector_prueba)\n",
    "        v1 = Vector_prueba / np.linalg.norm(Vector_prueba)\n",
    "        \n",
    "    \n",
    "    return Valor_propio, v1 "
   ]
  },
  {
   "cell_type": "code",
   "execution_count": 46,
   "metadata": {},
   "outputs": [
    {
     "data": {
      "text/plain": [
       "(-3.414213562373095, array([ 0.5       , -0.70710678,  0.5       ]))"
      ]
     },
     "execution_count": 46,
     "metadata": {},
     "output_type": "execute_result"
    }
   ],
   "source": [
    "r=Potencia(A, 1000, v1)\n",
    "r"
   ]
  },
  {
   "cell_type": "code",
   "execution_count": 51,
   "metadata": {},
   "outputs": [
    {
     "data": {
      "text/plain": [
       "(-1.7071067811865475, array([0.5       , 0.70710678, 0.5       ]))"
      ]
     },
     "execution_count": 51,
     "metadata": {},
     "output_type": "execute_result"
    }
   ],
   "source": [
    "AT=np.linalg.inv(A)\n",
    "r2=Potencia(AT, 1000, v2)\n",
    "r2"
   ]
  },
  {
   "cell_type": "code",
   "execution_count": 52,
   "metadata": {},
   "outputs": [
    {
     "data": {
      "text/plain": [
       "-0.585786437626905"
      ]
     },
     "execution_count": 52,
     "metadata": {},
     "output_type": "execute_result"
    }
   ],
   "source": [
    "Valorpropio2= 1/-1.7071067811865475\n",
    "Valorpropio2"
   ]
  },
  {
   "cell_type": "markdown",
   "metadata": {},
   "source": [
    "Podemos comprobar con wolfram alpha que el valor y el vector propio de mayor valor absoluto y menor valor absoluto son los encontrados."
   ]
  },
  {
   "cell_type": "code",
   "execution_count": 54,
   "metadata": {},
   "outputs": [
    {
     "data": {
      "text/plain": [
       "1.8477590650225735"
      ]
     },
     "execution_count": 54,
     "metadata": {},
     "output_type": "execute_result"
    }
   ],
   "source": [
    "Frecuencia_Mayor= np.sqrt(3.414213562373095)\n",
    "Frecuencia_Mayor"
   ]
  },
  {
   "cell_type": "code",
   "execution_count": 55,
   "metadata": {},
   "outputs": [
    {
     "data": {
      "text/plain": [
       "0.7653668647301796"
      ]
     },
     "execution_count": 55,
     "metadata": {},
     "output_type": "execute_result"
    }
   ],
   "source": [
    "Frecuencia_Menor=np.sqrt(0.585786437626905)\n",
    "Frecuencia_Menor"
   ]
  }
 ],
 "metadata": {
  "kernelspec": {
   "display_name": "Python 3",
   "language": "python",
   "name": "python3"
  },
  "language_info": {
   "codemirror_mode": {
    "name": "ipython",
    "version": 3
   },
   "file_extension": ".py",
   "mimetype": "text/x-python",
   "name": "python",
   "nbconvert_exporter": "python",
   "pygments_lexer": "ipython3",
   "version": "3.11.5"
  },
  "orig_nbformat": 4
 },
 "nbformat": 4,
 "nbformat_minor": 2
}
