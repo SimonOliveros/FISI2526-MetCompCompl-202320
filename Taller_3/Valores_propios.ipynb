{
 "cells": [
  {
   "cell_type": "code",
   "execution_count": 56,
   "metadata": {},
   "outputs": [
    {
     "data": {
      "text/plain": [
       "array([[-2,  1,  0],\n",
       "       [ 1, -2,  1],\n",
       "       [ 0,  1, -2]])"
      ]
     },
     "execution_count": 56,
     "metadata": {},
     "output_type": "execute_result"
    }
   ],
   "source": [
    "import numpy as np\n",
    "import sympy as sym\n",
    "x = sym.Symbol('x',real=True)\n",
    "A = np.array([[-2, 1, 0], [1, -2, 1],[0,1,-2]])\n",
    "A"
   ]
  },
  {
   "cell_type": "code",
   "execution_count": 57,
   "metadata": {},
   "outputs": [],
   "source": [
    "def Valores_propios(A):\n",
    "    filas_A, columnas_A = A.shape\n",
    "    a11=A[0][0]-x\n",
    "    a22=A[1][1]-x\n",
    "    a33=A[2][2]-x\n",
    "    det_1=(a22*a33)-(A[2,1]*A[1,2])\n",
    "    det_2=(A[1,0]*a33)-(A[2,0]*A[1,2])\n",
    "    det_3=(A[1,0]*A[2,1])-(a22*A[2,0])\n",
    "    poly=a11*det_1-(A[0,1]*det_2)+A[0,2]*det_3\n",
    "    polyexp=sym.expand(poly)\n",
    "    det_1\n",
    "    Valorespropios=sym.solve(polyexp, x)\n",
    "    return Valorespropios\n",
    "\n"
   ]
  },
  {
   "cell_type": "code",
   "execution_count": 58,
   "metadata": {},
   "outputs": [
    {
     "data": {
      "text/plain": [
       "[-2, -2 - sqrt(2), -2 + sqrt(2)]"
      ]
     },
     "execution_count": 58,
     "metadata": {},
     "output_type": "execute_result"
    }
   ],
   "source": [
    "resultado=Valores_propios(A)\n",
    "resultado"
   ]
  },
  {
   "cell_type": "code",
   "execution_count": 59,
   "metadata": {},
   "outputs": [
    {
     "data": {
      "text/latex": [
       "$\\displaystyle 1 - x$"
      ],
      "text/plain": [
       "1 - x"
      ]
     },
     "execution_count": 59,
     "metadata": {},
     "output_type": "execute_result"
    }
   ],
   "source": [
    "poly= 1-x\n",
    "poly"
   ]
  }
 ],
 "metadata": {
  "kernelspec": {
   "display_name": "Python 3",
   "language": "python",
   "name": "python3"
  },
  "language_info": {
   "codemirror_mode": {
    "name": "ipython",
    "version": 3
   },
   "file_extension": ".py",
   "mimetype": "text/x-python",
   "name": "python",
   "nbconvert_exporter": "python",
   "pygments_lexer": "ipython3",
   "version": "3.11.5"
  },
  "orig_nbformat": 4
 },
 "nbformat": 4,
 "nbformat_minor": 2
}
