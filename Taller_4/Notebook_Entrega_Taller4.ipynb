{
 "cells": [
  {
   "cell_type": "code",
   "execution_count": 95,
   "metadata": {},
   "outputs": [],
   "source": [
    "import numpy as np\n",
    "import matplotlib.pyplot as plt\n",
    "N=1000000"
   ]
  },
  {
   "cell_type": "markdown",
   "metadata": {},
   "source": [
    "BAstones del 1 al 13\n",
    "Copas del 14 al 26\n",
    "Oros 27 al 39\n",
    "Espadas 40 al 52 \n",
    "Generamos un array sin n espadas para simular que ya fueron escogidas y así calcular la probabilidad demandada."
   ]
  },
  {
   "cell_type": "code",
   "execution_count": 48,
   "metadata": {},
   "outputs": [
    {
     "data": {
      "text/plain": [
       "0.008353"
      ]
     },
     "execution_count": 48,
     "metadata": {},
     "output_type": "execute_result"
    }
   ],
   "source": [
    "#1.1\n",
    "evento_2espadas=0\n",
    "evento_3espadas=0\n",
    "evento_4espadas=0\n",
    "for i in range(N):\n",
    "    cartas2Espadas = np.arange(1,51)\n",
    "    np.random.shuffle(cartas2Espadas)\n",
    "    cartas_tomo=cartas2Espadas[:3]\n",
    "    h=0\n",
    "    for c in cartas_tomo:\n",
    "        if 40<=c<=51:\n",
    "            h+=1\n",
    "    if h==3:\n",
    "        evento_2espadas+=1\n",
    "\n",
    "\n",
    "evento_2espadas/N\n",
    "\n"
   ]
  },
  {
   "cell_type": "code",
   "execution_count": 49,
   "metadata": {},
   "outputs": [
    {
     "data": {
      "text/plain": [
       "0.038003"
      ]
     },
     "execution_count": 49,
     "metadata": {},
     "output_type": "execute_result"
    }
   ],
   "source": [
    "for j in range(N):\n",
    "    cartas3Espadas = np.arange(1,50)\n",
    "    np.random.shuffle(cartas3Espadas)\n",
    "    cartas_tomo2=cartas3Espadas[:2]\n",
    "    h=0\n",
    "    for c in cartas_tomo2:\n",
    "        if 40<=c<=50:\n",
    "            h+=1\n",
    "    if h==2:\n",
    "        evento_3espadas+=1\n",
    "evento_3espadas/N"
   ]
  },
  {
   "cell_type": "code",
   "execution_count": 50,
   "metadata": {},
   "outputs": [
    {
     "data": {
      "text/plain": [
       "0.187804"
      ]
     },
     "execution_count": 50,
     "metadata": {},
     "output_type": "execute_result"
    }
   ],
   "source": [
    "for j in range(N):\n",
    "    cartas4Espadas = np.arange(1,49)\n",
    "    np.random.shuffle(cartas4Espadas)\n",
    "    cartas_tomo2=cartas4Espadas[:1]\n",
    "    h=0\n",
    "    for c in cartas_tomo2:\n",
    "        if 40<=c<=50:\n",
    "            h+=1\n",
    "    if h==1:\n",
    "        evento_4espadas+=1\n",
    "evento_4espadas/N"
   ]
  },
  {
   "cell_type": "markdown",
   "metadata": {},
   "source": [
    "1.2 Para este punto calculamos primero la probabilidad de que la persona inmunizada se infecte, para esto tendría que suceder que se exponga al virus (0.6) y que el suero no haga el efecto deseado (0.2) al hacer el cálculo 0.6 x 0.2 nos da P1=0.12 "
   ]
  },
  {
   "cell_type": "markdown",
   "metadata": {},
   "source": [
    "Repetimos lo mismo para la persona no inmunizada es decir que se exponga (0.6) y que se infecte (0.9) esto nos da P2= 0.54 "
   ]
  },
  {
   "cell_type": "code",
   "execution_count": 51,
   "metadata": {},
   "outputs": [
    {
     "data": {
      "text/plain": [
       "0.602658"
      ]
     },
     "execution_count": 51,
     "metadata": {},
     "output_type": "execute_result"
    }
   ],
   "source": [
    "#1.2\n",
    "Contagio_minimo=0\n",
    "for i in range (N):\n",
    "    contagio=0\n",
    "    persona1= np.random.randint(101)\n",
    "    persona2= np.random.randint(101)\n",
    "    if persona1<=12:\n",
    "        contagio+=1\n",
    "    if persona2<=54:\n",
    "        contagio+=1\n",
    "    if contagio>=1:\n",
    "        Contagio_minimo+=1\n",
    "Contagio_minimo/N\n",
    "    \n",
    "        \n"
   ]
  },
  {
   "cell_type": "code",
   "execution_count": 101,
   "metadata": {},
   "outputs": [
    {
     "data": {
      "text/plain": [
       "([1.0,\n",
       "  0.999037,\n",
       "  0.996305,\n",
       "  0.991615,\n",
       "  0.985029,\n",
       "  0.977156,\n",
       "  0.96833,\n",
       "  0.957338,\n",
       "  0.945684,\n",
       "  0.932676,\n",
       "  0.918756,\n",
       "  0.903175,\n",
       "  0.887686,\n",
       "  0.870562,\n",
       "  0.853283,\n",
       "  0.834595,\n",
       "  0.816257,\n",
       "  0.796856,\n",
       "  0.777908,\n",
       "  0.757814,\n",
       "  0.737335,\n",
       "  0.717766,\n",
       "  0.695972,\n",
       "  0.674558,\n",
       "  0.654081,\n",
       "  0.63252,\n",
       "  0.611038,\n",
       "  0.590347,\n",
       "  0.569487,\n",
       "  0.548954,\n",
       "  0.528059,\n",
       "  0.507782,\n",
       "  0.487648,\n",
       "  0.467616,\n",
       "  0.44816,\n",
       "  0.427915,\n",
       "  0.409595,\n",
       "  0.389676,\n",
       "  0.373196,\n",
       "  0.354517,\n",
       "  0.336902,\n",
       "  0.320181,\n",
       "  0.302998,\n",
       "  0.287554,\n",
       "  0.27177,\n",
       "  0.256026,\n",
       "  0.241046,\n",
       "  0.22747,\n",
       "  0.213032,\n",
       "  0.200044,\n",
       "  0.187709,\n",
       "  0.17596,\n",
       "  0.163272,\n",
       "  0.151707,\n",
       "  0.140966,\n",
       "  0.131564,\n",
       "  0.121544,\n",
       "  0.112271,\n",
       "  0.10314,\n",
       "  0.095506,\n",
       "  0.08746,\n",
       "  0.079482,\n",
       "  0.073093,\n",
       "  0.065773,\n",
       "  0.060161,\n",
       "  0.053604,\n",
       "  0.048403,\n",
       "  0.043551,\n",
       "  0.038874,\n",
       "  0.034343,\n",
       "  0.030824,\n",
       "  0.027332,\n",
       "  0.023609,\n",
       "  0.020752,\n",
       "  0.018187,\n",
       "  0.015698,\n",
       "  0.013414,\n",
       "  0.01127,\n",
       "  0.00977,\n",
       "  0.008067,\n",
       "  0.006817,\n",
       "  0.005446,\n",
       "  0.004559,\n",
       "  0.003564,\n",
       "  0.002841,\n",
       "  0.002219,\n",
       "  0.001731,\n",
       "  0.001208,\n",
       "  0.000937,\n",
       "  0.000659,\n",
       "  0.000435,\n",
       "  0.000306,\n",
       "  0.000205,\n",
       "  0.000108,\n",
       "  5.5e-05,\n",
       "  2.4e-05,\n",
       "  1e-05,\n",
       "  2e-06,\n",
       "  2e-06,\n",
       "  0.0,\n",
       "  0.0],\n",
       " [1.0,\n",
       "  1.0,\n",
       "  0.99999,\n",
       "  0.999927,\n",
       "  0.999626,\n",
       "  0.998812,\n",
       "  0.996911,\n",
       "  0.993627,\n",
       "  0.987591,\n",
       "  0.978969,\n",
       "  0.966642,\n",
       "  0.949796,\n",
       "  0.928716,\n",
       "  0.903508,\n",
       "  0.873461,\n",
       "  0.838445,\n",
       "  0.799899,\n",
       "  0.757292,\n",
       "  0.711703,\n",
       "  0.664937,\n",
       "  0.616801,\n",
       "  0.568555,\n",
       "  0.518868,\n",
       "  0.470057,\n",
       "  0.421957,\n",
       "  0.378566,\n",
       "  0.335721,\n",
       "  0.295262,\n",
       "  0.257638,\n",
       "  0.224595,\n",
       "  0.193968,\n",
       "  0.165009,\n",
       "  0.140442,\n",
       "  0.118992,\n",
       "  0.099554,\n",
       "  0.082708,\n",
       "  0.068101,\n",
       "  0.055636,\n",
       "  0.045206,\n",
       "  0.036757,\n",
       "  0.029531,\n",
       "  0.022973,\n",
       "  0.018525,\n",
       "  0.014623,\n",
       "  0.011295,\n",
       "  0.008508,\n",
       "  0.006458,\n",
       "  0.005017,\n",
       "  0.003726,\n",
       "  0.002798,\n",
       "  0.002094,\n",
       "  0.001534,\n",
       "  0.001079,\n",
       "  0.000807,\n",
       "  0.000537,\n",
       "  0.00038,\n",
       "  0.000255,\n",
       "  0.000194,\n",
       "  0.000129,\n",
       "  7.9e-05,\n",
       "  7e-05,\n",
       "  4.3e-05,\n",
       "  1.8e-05,\n",
       "  2.2e-05,\n",
       "  9e-06,\n",
       "  7e-06,\n",
       "  0.0,\n",
       "  3e-06,\n",
       "  1e-06,\n",
       "  0.0,\n",
       "  0.0,\n",
       "  1e-06,\n",
       "  0.0,\n",
       "  0.0,\n",
       "  0.0,\n",
       "  0.0,\n",
       "  0.0,\n",
       "  0.0,\n",
       "  0.0,\n",
       "  0.0,\n",
       "  0.0,\n",
       "  0.0,\n",
       "  0.0,\n",
       "  0.0,\n",
       "  0.0,\n",
       "  0.0,\n",
       "  0.0,\n",
       "  0.0,\n",
       "  0.0,\n",
       "  0.0,\n",
       "  0.0,\n",
       "  0.0,\n",
       "  0.0,\n",
       "  0.0,\n",
       "  0.0,\n",
       "  0.0,\n",
       "  0.0,\n",
       "  0.0,\n",
       "  0.0,\n",
       "  0.0,\n",
       "  0.0])"
      ]
     },
     "execution_count": 101,
     "metadata": {},
     "output_type": "execute_result"
    }
   ],
   "source": [
    "#2.1\n",
    "probs=np.linspace(0,1,101)\n",
    "Muestreo1=[]\n",
    "Muestreo2=[]\n",
    "\n",
    "for p in probs:\n",
    "    Ev1=np.random.binomial(5,p,N)\n",
    "    Ev2=np.random.binomial(25,p,N)\n",
    "    conteo1=0\n",
    "    conteo2=0\n",
    "    for e in Ev1:\n",
    "        if e<=1:\n",
    "            conteo1+=1\n",
    "    for e in Ev2:\n",
    "        if e<=5:\n",
    "            conteo2+=1\n",
    "    Muestreo1.append(conteo1/N)\n",
    "    Muestreo2.append(conteo2/N)\n",
    "\n",
    "Muestreo1, Muestreo2\n",
    "\n",
    "\n"
   ]
  },
  {
   "cell_type": "code",
   "execution_count": 103,
   "metadata": {},
   "outputs": [
    {
     "data": {
      "image/png": "[encoded data removed]",
      "text/plain": [
       "<Figure size 640x480 with 1 Axes>"
      ]
     },
     "metadata": {},
     "output_type": "display_data"
    }
   ],
   "source": [
    "plt.plot(probs,Muestreo1,label=\"n=5\")\n",
    "plt.plot(probs,Muestreo2,label=\"n=25\")\n",
    "plt.xlabel(\"Porcentaje de piezas defectuosas\")\n",
    "plt.ylabel(\"Probabilidad de aceptación\")\n",
    "plt.legend()\n",
    "plt.show()"
   ]
  },
  {
   "cell_type": "markdown",
   "metadata": {},
   "source": []
  },
  {
   "cell_type": "code",
   "execution_count": 52,
   "metadata": {},
   "outputs": [
    {
     "data": {
      "text/plain": [
       "(0.018973, 0.00363)"
      ]
     },
     "execution_count": 52,
     "metadata": {},
     "output_type": "execute_result"
    }
   ],
   "source": [
    "#2.2\n",
    "eventos=np.random.poisson(1,N)\n",
    "pp=0\n",
    "pp1=0\n",
    "for e in eventos:\n",
    "    if e>=4:\n",
    "        pp+=1\n",
    "    if e>=5:\n",
    "        pp1+=1\n",
    "\n",
    "pp/N, pp1/N"
   ]
  },
  {
   "cell_type": "markdown",
   "metadata": {},
   "source": [
    "Podemos ver que el n que cumple esto es n=5 debido a que podemos ver que para 4 la posibilidad sigue siendo mayor a 0.01, sin embargo desde 5 esta posibilidad ya traspasa esa frontera."
   ]
  },
  {
   "cell_type": "code",
   "execution_count": 53,
   "metadata": {},
   "outputs": [
    {
     "data": {
      "text/plain": [
       "[0.368051,\n",
       " 0.135052,\n",
       " 0.049704,\n",
       " 0.018516,\n",
       " 0.006859,\n",
       " 0.002397,\n",
       " 0.000909,\n",
       " 0.000339,\n",
       " 0.000117]"
      ]
     },
     "execution_count": 53,
     "metadata": {},
     "output_type": "execute_result"
    }
   ],
   "source": [
    "resultados=[]\n",
    "pp=0\n",
    "for i in range (1,10):\n",
    "    eventos2=np.random.poisson(i,N)\n",
    "    pp=0\n",
    "    for e in eventos2:\n",
    "        if e==0:\n",
    "            pp+=1\n",
    "    resultados.append(pp/N)\n",
    "            \n",
    "resultados"
   ]
  },
  {
   "cell_type": "markdown",
   "metadata": {},
   "source": [
    "Podemos ver que contando hasta 40 horas las horas mínimas en las que la probabilidad baja de 0.02 es con i=4, es decir 16 horas"
   ]
  },
  {
   "cell_type": "code",
   "execution_count": 137,
   "metadata": {},
   "outputs": [
    {
     "data": {
      "text/plain": [
       "0.440196"
      ]
     },
     "execution_count": 137,
     "metadata": {},
     "output_type": "execute_result"
    }
   ],
   "source": [
    "\n",
    "#2.2.c\n",
    "e1=np.random.poisson(1,N)\n",
    "e2=np.random.poisson(1,N)\n",
    "e3=np.random.poisson(1,N)\n",
    "pp=0\n",
    "for i in range(len(e1)):\n",
    "    if e1[i]==0 and e2[i]!=0 and e3[i]!=0:\n",
    "        pp+=1\n",
    "    elif e1[i]!=0 and e2[i]==0 and e3[i]!=0:\n",
    "        pp+=1\n",
    "    elif e1[i]!=0 and e2[i]!=0 and e3[i]==0:\n",
    "        pp+=1\n",
    "pp/N\n",
    "\n",
    "\n",
    "\n",
    "    "
   ]
  },
  {
   "cell_type": "code",
   "execution_count": 136,
   "metadata": {},
   "outputs": [
    {
     "data": {
      "text/plain": [
       "0.22416"
      ]
     },
     "execution_count": 136,
     "metadata": {},
     "output_type": "execute_result"
    }
   ],
   "source": [
    "eventos4=np.random.poisson(3,N)\n",
    "pp=0\n",
    "for e in eventos4:\n",
    "    if e==3:\n",
    "        pp+=1\n",
    "\n",
    "pp/N\n"
   ]
  },
  {
   "cell_type": "markdown",
   "metadata": {},
   "source": [
    "Esta es la probabilidad  de que en 3 periodos de 4 horas haya las desconexiones esperadas es decir, exactamente 3 desconexiones"
   ]
  },
  {
   "cell_type": "code",
   "execution_count": 135,
   "metadata": {},
   "outputs": [
    {
     "data": {
      "text/plain": [
       "(0.11111111111111115, 0.7777777777777778)"
      ]
     },
     "execution_count": 135,
     "metadata": {},
     "output_type": "execute_result"
    }
   ],
   "source": [
    "#3.1\n",
    "Roots,Weights=np.polynomial.legendre.leggauss(20)\n",
    "f1= lambda x: x**2/3\n",
    "def Integral_a_b(f,a,b,n):\n",
    "    sum=0\n",
    "    for k in range (n):\n",
    "        Raices=Roots\n",
    "        Pesos=Weights\n",
    "        ev=(Raices[k]*(b-a)+b+a)/2\n",
    "        sum+= Pesos[k]*f(ev)\n",
    "    multiplicador=(b-a)/2\n",
    "    salida=multiplicador*sum\n",
    "    return salida\n",
    "\n",
    "\n",
    "resu1=Integral_a_b(f1,0,1,20)\n",
    "resu2=Integral_a_b(f1,1,2,20)\n",
    "resu1, resu2"
   ]
  },
  {
   "cell_type": "code",
   "execution_count": null,
   "metadata": {},
   "outputs": [],
   "source": [
    "def Integral_a_b(f,a,b,n):\n",
    "    sum=0\n",
    "    for k in range (n):\n",
    "        Raices=Roots\n",
    "        Pesos=Weights\n",
    "        ev=(Raices[k]*(b-a)+b+a)/2\n",
    "        sum+= Pesos[k]*f(ev)\n",
    "    multiplicador=(b-a)/2\n",
    "    salida=multiplicador*sum\n",
    "    return salida"
   ]
  },
  {
   "cell_type": "code",
   "execution_count": 129,
   "metadata": {},
   "outputs": [
    {
     "data": {
      "text/plain": [
       "(0.841863, 85.689750997295, 81.49037422250136, 0.436812, 0.18851998484313956)"
      ]
     },
     "execution_count": 129,
     "metadata": {},
     "output_type": "execute_result"
    }
   ],
   "source": [
    "#3.2\n",
    "#a)\n",
    "notas=np.random.normal(78,6,N)\n",
    "notas.sort()\n",
    "notas72=0\n",
    "porc10=int(N/10)\n",
    "for n in notas:\n",
    "    if n>72:\n",
    "        notas72+=1\n",
    "r1=notas72/N\n",
    "#b\n",
    "notas10=notas[-porc10:]\n",
    "r2=notas10[0]\n",
    "#c\n",
    "porc28=int(N/1000*281)\n",
    "notas28=notas[-porc28:]\n",
    "r3=notas28[0]\n",
    "#d\n",
    "porc25=int(N/4)\n",
    "nota25=notas[porc25]\n",
    "corte=nota25+5\n",
    "notas25=0\n",
    "for n in notas:\n",
    "    if n >= corte:\n",
    "        notas25+=1\n",
    "r4=notas25/N\n",
    "#e\n",
    "cortede72=[]\n",
    "for n in notas:\n",
    "    if n>72:\n",
    "        cortede72.append(n)\n",
    "notas84=0\n",
    "for n in cortede72:\n",
    "    if n>84:\n",
    "        notas84+=1\n",
    "r5=notas84/len(cortede72)\n",
    "r5\n",
    "r1,r2,r3,r4,r5\n",
    "\n",
    "\n"
   ]
  },
  {
   "cell_type": "code",
   "execution_count": 131,
   "metadata": {},
   "outputs": [
    {
     "data": {
      "text/plain": [
       "(7.500000000000001e-05, 0.18289152000000003)"
      ]
     },
     "execution_count": 131,
     "metadata": {},
     "output_type": "execute_result"
    }
   ],
   "source": [
    "estados=[0,1,2,3]\n",
    "priori=[0.25,0,0.5,0.25]\n",
    "bases_nitrogenadas={\"A\":0,\"C\":1,\"G\":2,\"T\":3}\n",
    "T=np.array([[0.4,0.2,0.2,0.2],[0.25,0.25,0.25,0.25],[0.3,0.3,0.1,0.3],[0.1,0.1,0.1,0.7]])\n",
    "E=np.array([[0.8,0,0,0.2],[0.05,0.9,0.1,0.1],[0.05,0.1,0.9,0],[0.1,0,0,0.7]])\n",
    "\n",
    "\n",
    "def encontrar_probabilidad(gen:list, T, priori, bases_nitrogenadas):\n",
    "    i=1\n",
    "    salida=priori[bases_nitrogenadas[gen[0]]]\n",
    "    while i+1 <len(gen):\n",
    "        \n",
    "    \n",
    "        \n",
    "        paso=T[bases_nitrogenadas[gen[i]]][bases_nitrogenadas[gen[i+1]]]\n",
    "        salida*=paso\n",
    "        \n",
    "        i+=1\n",
    "    return salida \n",
    "traductor={\"U\":0,\"G\":1,\"C\":2,\"A\":3}\n",
    "def probabilidad_traductor(g_traducido:list, gen ,traductor,E, bases_nitrogenadas):\n",
    "    i=0\n",
    "    prob=1\n",
    "    while i <len(gen):\n",
    "        paso=E[traductor[g_traducido[i]]][bases_nitrogenadas[gen[i]]]\n",
    "        prob*=paso\n",
    "        i+=1\n",
    "    return prob\n",
    "salida1=encontrar_probabilidad([\"T\",\"G\",\"C\",\"T\",\"C\",\"A\",\"A\",\"A\"],T,priori,bases_nitrogenadas)\n",
    "salida2=probabilidad_traductor([\"A\",\"C\",\"G\",\"A\",\"G\",\"U\",\"U\",\"U\"], [\"T\",\"G\",\"C\",\"T\",\"C\",\"A\",\"A\",\"A\"], traductor, E, bases_nitrogenadas)\n",
    "salida1, salida2"
   ]
  }
 ],
 "metadata": {
  "kernelspec": {
   "display_name": "Python 3",
   "language": "python",
   "name": "python3"
  },
  "language_info": {
   "codemirror_mode": {
    "name": "ipython",
    "version": 3
   },
   "file_extension": ".py",
   "mimetype": "text/x-python",
   "name": "python",
   "nbconvert_exporter": "python",
   "pygments_lexer": "ipython3",
   "version": "3.11.5"
  }
 },
 "nbformat": 4,
 "nbformat_minor": 2
}
