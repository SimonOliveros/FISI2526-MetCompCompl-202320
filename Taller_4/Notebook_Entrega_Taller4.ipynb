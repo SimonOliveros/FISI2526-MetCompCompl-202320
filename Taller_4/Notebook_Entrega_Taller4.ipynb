{
 "cells": [
  {
   "cell_type": "code",
   "execution_count": 2,
   "metadata": {},
   "outputs": [],
   "source": [
    "import numpy as np\n",
    "N=1000000"
   ]
  },
  {
   "cell_type": "markdown",
   "metadata": {},
   "source": [
    "BAstones del 1 al 13\n",
    "Copas del 14 al 26\n",
    "Oros 27 al 39\n",
    "Espadas 40 al 52 \n",
    "Generamos un array sin 2 espadas para simular que ya fueron escogidas y así calcular la probabilidad demandada."
   ]
  },
  {
   "cell_type": "code",
   "execution_count": 11,
   "metadata": {},
   "outputs": [
    {
     "data": {
      "text/plain": [
       "0.008602"
      ]
     },
     "execution_count": 11,
     "metadata": {},
     "output_type": "execute_result"
    }
   ],
   "source": [
    "#1.1\n",
    "evento_espadas=0\n",
    "for i in range(N):\n",
    "    cartas2Espadas = np.arange(1,51)\n",
    "    np.random.shuffle(cartas2Espadas)\n",
    "    cartas_tomo=cartas2Espadas[:3]\n",
    "    h=0\n",
    "    for c in cartas_tomo:\n",
    "        if 40<=c<=51:\n",
    "            h+=1\n",
    "    if h==3:\n",
    "        evento_espadas+=1\n",
    "evento_espadas/N \n",
    "\n"
   ]
  },
  {
   "cell_type": "code",
   "execution_count": 19,
   "metadata": {},
   "outputs": [
    {
     "data": {
      "text/plain": [
       "0.608083"
      ]
     },
     "execution_count": 19,
     "metadata": {},
     "output_type": "execute_result"
    }
   ],
   "source": [
    "#1.2\n",
    "Contagio_minimo=0\n",
    "for i in range (N):\n",
    "    contagio=0\n",
    "    persona1= np.random.randint(100)\n",
    "    persona2= np.random.randint(100)\n",
    "    if persona1<=12:\n",
    "        contagio+=1\n",
    "    if persona2<=54:\n",
    "        contagio+=1\n",
    "    if contagio>=1:\n",
    "        Contagio_minimo+=1\n",
    "Contagio_minimo/N\n",
    "    \n",
    "        \n"
   ]
  },
  {
   "cell_type": "code",
   "execution_count": 4,
   "metadata": {},
   "outputs": [
    {
     "data": {
      "text/plain": [
       "(0.019251, 0.003746)"
      ]
     },
     "execution_count": 4,
     "metadata": {},
     "output_type": "execute_result"
    }
   ],
   "source": [
    "#2.2\n",
    "eventos=np.random.poisson(1,N)\n",
    "pp=0\n",
    "pp1=0\n",
    "for e in eventos:\n",
    "    if e>=4:\n",
    "        pp+=1\n",
    "    if e>=5:\n",
    "        pp1+=1\n",
    "\n",
    "pp/N, pp1/N"
   ]
  },
  {
   "cell_type": "markdown",
   "metadata": {},
   "source": [
    "Podemos ver que el n que cumple esto es n=5 debido a que podemos ver que para 4 la posibilidad sigue siendo mayor a 0.01, sin embargo desde 5 esta posibilidad ya traspasa esa frontera."
   ]
  },
  {
   "cell_type": "code",
   "execution_count": 5,
   "metadata": {},
   "outputs": [
    {
     "data": {
      "text/plain": [
       "[0.368209,\n",
       " 0.135291,\n",
       " 0.049422,\n",
       " 0.018328,\n",
       " 0.006636,\n",
       " 0.002481,\n",
       " 0.000908,\n",
       " 0.000332,\n",
       " 0.000113]"
      ]
     },
     "execution_count": 5,
     "metadata": {},
     "output_type": "execute_result"
    }
   ],
   "source": [
    "resultados=[]\n",
    "pp=0\n",
    "eventos2=np.random.poisson(4,N)\n",
    "for i in range (1,10):\n",
    "    eventos2=np.random.poisson(i,N)\n",
    "    pp=0\n",
    "    for e in eventos2:\n",
    "        if e==0:\n",
    "            pp+=1\n",
    "    resultados.append(pp/N)\n",
    "            \n",
    "resultados"
   ]
  },
  {
   "cell_type": "markdown",
   "metadata": {},
   "source": [
    "Podemos ver que contando hasta 40 horas las horas mínimas en las que la probabilidad baja de 0.02 es con i=4, es decir 16 horas"
   ]
  },
  {
   "cell_type": "code",
   "execution_count": null,
   "metadata": {},
   "outputs": [],
   "source": []
  },
  {
   "cell_type": "code",
   "execution_count": 6,
   "metadata": {},
   "outputs": [
    {
     "data": {
      "text/plain": [
       "0.2242"
      ]
     },
     "execution_count": 6,
     "metadata": {},
     "output_type": "execute_result"
    }
   ],
   "source": [
    "eventos4=np.random.poisson(3,N)\n",
    "pp=0\n",
    "for e in eventos4:\n",
    "    if e==3:\n",
    "        pp+=1\n",
    "\n",
    "pp/N\n"
   ]
  },
  {
   "cell_type": "markdown",
   "metadata": {},
   "source": [
    "Esta es la probabilidad  de que en 3 periodos de 4 horas haya en cada uno de estos 1 desconexión."
   ]
  }
 ],
 "metadata": {
  "kernelspec": {
   "display_name": "Python 3",
   "language": "python",
   "name": "python3"
  },
  "language_info": {
   "codemirror_mode": {
    "name": "ipython",
    "version": 3
   },
   "file_extension": ".py",
   "mimetype": "text/x-python",
   "name": "python",
   "nbconvert_exporter": "python",
   "pygments_lexer": "ipython3",
   "version": "3.11.5"
  }
 },
 "nbformat": 4,
 "nbformat_minor": 2
}
