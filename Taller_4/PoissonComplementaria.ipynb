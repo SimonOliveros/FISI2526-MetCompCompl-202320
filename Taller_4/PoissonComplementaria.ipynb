{
 "cells": [
  {
   "cell_type": "code",
   "execution_count": 16,
   "metadata": {},
   "outputs": [],
   "source": [
    "import numpy as np \n"
   ]
  },
  {
   "cell_type": "code",
   "execution_count": 17,
   "metadata": {},
   "outputs": [
    {
     "data": {
      "text/plain": [
       "array([ 3,  3,  1,  5,  5,  5,  4,  4,  4,  2,  4,  5,  6,  8,  7,  3,  4,\n",
       "        2,  3,  5,  7,  8,  4,  4,  0,  4,  7,  4,  6,  2,  4,  4,  3,  5,\n",
       "        5,  4,  5,  5,  2,  4,  4,  3,  3,  5,  2,  5,  5,  9,  3,  5,  5,\n",
       "        7,  4,  8,  3,  7,  2,  7,  3,  4,  3,  5,  1,  4,  2,  6,  3,  2,\n",
       "        4,  3,  5,  7,  3,  4,  3,  7,  7,  4,  4,  6,  3,  2, 12, 10,  5,\n",
       "        8,  6,  2,  9,  5,  4,  4, 10,  6,  4, 10,  5,  1,  7,  3])"
      ]
     },
     "execution_count": 17,
     "metadata": {},
     "output_type": "execute_result"
    }
   ],
   "source": [
    "np.random.poisson(5, 100)"
   ]
  },
  {
   "cell_type": "code",
   "execution_count": 18,
   "metadata": {},
   "outputs": [],
   "source": [
    "N=100000\n",
    "eventos=np.random.poisson(5,N)\n",
    "p1,p2,p3= 0,0,0\n",
    "for e in eventos:\n",
    "    if e==2:\n",
    "        p1+=1\n",
    "    if e<=2:\n",
    "        p2+=1\n",
    "    if e>10:\n",
    "        p3+=1\n"
   ]
  },
  {
   "cell_type": "code",
   "execution_count": 19,
   "metadata": {},
   "outputs": [
    {
     "data": {
      "text/plain": [
       "(0.0829, 0.12229, 0.01352)"
      ]
     },
     "execution_count": 19,
     "metadata": {},
     "output_type": "execute_result"
    }
   ],
   "source": [
    "p1/N, p2/N, p3/N"
   ]
  }
 ],
 "metadata": {
  "kernelspec": {
   "display_name": "Python 3",
   "language": "python",
   "name": "python3"
  },
  "language_info": {
   "codemirror_mode": {
    "name": "ipython",
    "version": 3
   },
   "file_extension": ".py",
   "mimetype": "text/x-python",
   "name": "python",
   "nbconvert_exporter": "python",
   "pygments_lexer": "ipython3",
   "version": "3.11.5"
  }
 },
 "nbformat": 4,
 "nbformat_minor": 2
}
